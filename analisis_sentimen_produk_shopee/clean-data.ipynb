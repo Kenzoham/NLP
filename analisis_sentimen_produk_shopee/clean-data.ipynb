{
 "cells": [
  {
   "cell_type": "code",
   "execution_count": 1,
   "id": "3e999686-3203-4fd1-8b53-179d77a16d07",
   "metadata": {},
   "outputs": [
    {
     "name": "stderr",
     "output_type": "stream",
     "text": [
      "[nltk_data] Downloading package punkt to\n",
      "[nltk_data]     C:\\Users\\abdullahilham\\AppData\\Roaming\\nltk_data...\n",
      "[nltk_data]   Package punkt is already up-to-date!\n"
     ]
    },
    {
     "data": {
      "text/plain": [
       "True"
      ]
     },
     "execution_count": 1,
     "metadata": {},
     "output_type": "execute_result"
    }
   ],
   "source": [
    "import re\n",
    "import pandas as pd\n",
    "from Sastrawi.StopWordRemover.StopWordRemoverFactory import StopWordRemoverFactory\n",
    "from Sastrawi.Stemmer.StemmerFactory import StemmerFactory\n",
    "from nltk.tokenize import word_tokenize\n",
    "import nltk\n",
    "\n",
    "nltk.download(\"punkt\")"
   ]
  },
  {
   "cell_type": "code",
   "execution_count": 2,
   "id": "28bcfe7c-71e9-4816-8513-90f43568c471",
   "metadata": {},
   "outputs": [
    {
     "name": "stdout",
     "output_type": "stream",
     "text": [
      "   Bintang                                                txt     label\n",
      "0        5  Barang sudah sampai dalam keadaan baik, tidak ...  Positive\n",
      "1        5  Cakep dah bakal pesen disini lagi, karena ini ...  Positive\n",
      "2        5  Barang aman mendarat degan lancar respon y cep...  Positive\n",
      "3        5  Barang sesuai pesanan, harganya bagus dan peng...  Positive\n",
      "4        5  Produk baik sesuai dengan deskripsi.. pengirim...  Positive\n"
     ]
    }
   ],
   "source": [
    "# Membaca file CSV\n",
    "file_path = \"C:/Users/abdullahilham/Downloads/analisis_sentimen_produk_shopee/riview_1.csv\"\n",
    "data = pd.read_csv(file_path)\n",
    "\n",
    "# memeriksa struktur data\n",
    "print(data.head())"
   ]
  },
  {
   "cell_type": "code",
   "execution_count": 3,
   "id": "2d03ad74-09a2-43bc-9290-fe2f7b414063",
   "metadata": {},
   "outputs": [],
   "source": [
    "def text_cleaning(text):\n",
    "    # Inisialisasi StopWordRemover\n",
    "    factory_stopword = StopWordRemoverFactory()\n",
    "    stopword = factory_stopword.create_stop_word_remover()\n",
    "\n",
    "    # Inisialisasi Stemmer\n",
    "    factory_stemmer = StemmerFactory()\n",
    "    stemmer = factory_stemmer.create_stemmer()\n",
    "\n",
    "    # Lowercase teks\n",
    "    text = text.lower()\n",
    "\n",
    "    # Hapus karakter khusus, tautan, dan karakter yang tidak relevan\n",
    "    text = re.sub(r\"https?://\\S+|www\\.\\S+\", \" \", text)\n",
    "    text = re.sub(r\"<.*?>\", \" \", text)\n",
    "    text = re.sub(r\"[^a-zA-Z\\s]\", \" \", text)\n",
    "\n",
    "    # Hapus stopwords\n",
    "    without_stopword = stopword.remove(text)\n",
    "\n",
    "    # Lakukan stemming\n",
    "    stemmed_text = stemmer.stem(without_stopword)\n",
    "\n",
    "    return stemmed_text"
   ]
  },
  {
   "cell_type": "code",
   "execution_count": 4,
   "id": "7e742874-d11f-4af3-b90a-91c28885f749",
   "metadata": {},
   "outputs": [],
   "source": [
    "# Membersihkan kolom 'txt' menggunakan fungsi text_cleaning\n",
    "data[\"txt\"] = data[\"txt\"].apply(text_cleaning)"
   ]
  },
  {
   "cell_type": "code",
   "execution_count": 5,
   "id": "e047d32b-a6cd-4327-9a1d-185fbe2e51ea",
   "metadata": {},
   "outputs": [
    {
     "name": "stdout",
     "output_type": "stream",
     "text": [
      "|    |   Bintang | txt                                                                                                                   | label    |\n",
      "|---:|----------:|:----------------------------------------------------------------------------------------------------------------------|:---------|\n",
      "|  0 |         5 | barang sampai ada baik ada cacat akan rangkai moga fungsi baik trims agan toko shopee kurir spx                       | Positive |\n",
      "|  1 |         5 | cakep dah bakal sen sini ini buat ngetes codenya eh nyata jalan lancar                                                | Positive |\n",
      "|  2 |         5 | barang aman darat degan lancar respon y cepat udah jadi langgan toko barang y bagus bagus datang y cepat mantap bos q | Positive |\n",
      "|  3 |         5 | barang sesuai pesan harga bagus kirim cepat terima kasih                                                              | Positive |\n",
      "|  4 |         5 | produk baik sesuai deskripsi kirim produk sangat cepat packing produk sangat aman harga kompetitif recomended seller  | Positive |\n",
      "|  5 |         5 | barang sesuai pesan harga bagus kirim cepat terima kasih                                                              | Positive |\n",
      "|  6 |         5 | barang terima sesuai deskripsi paking rapi terima kasih banyak                                                        | Positive |\n",
      "|  7 |         5 | buat proyek diy murmer dpt diskon jadi happy everafter main teknologi                                                 | Positive |\n",
      "|  8 |         5 | barang sesuai pesan harga bagus kirim cepat terima kasih                                                              | Positive |\n",
      "|  9 |         5 | terimakasih buat sheller nya sangat respon ramah moga usaha ramai beli aamin                                          | Positive |\n",
      "| 10 |         5 | dh sya trima barang nya terimakasih                                                                                   | Positive |\n",
      "| 11 |         5 | mantap dah langgan gak bakal kecewa belanja sini admin y respon cepat                                                 | Positive |\n",
      "| 12 |         1 | wemosnya gagal produk rusak tdk kepake                                                                                | Negative |\n",
      "| 13 |         5 | bagus moga awet                                                                                                       | Positive |\n",
      "| 14 |         5 | pesan sesuai dgn deskripsi trmksh smoga usaha lancar                                                                  | Positive |\n",
      "| 15 |         5 | mantab bos gercep                                                                                                     | Positive |\n",
      "| 16 |         5 | di coba isi program semua lancar                                                                                      | Positive |\n",
      "| 17 |         5 | mantep dah poko rekomended                                                                                            | Positive |\n",
      "| 18 |         5 | maaf buat abang kurir jd nunggu lama brang cepet smp nya                                                              | Positive |\n",
      "| 19 |         5 | brfungsi dg baik                                                                                                      | Positive |\n"
     ]
    }
   ],
   "source": [
    "print(data.to_markdown())"
   ]
  },
  {
   "cell_type": "code",
   "execution_count": 6,
   "id": "2510fd08-7b2e-4edb-bbe2-e9212e4759f3",
   "metadata": {},
   "outputs": [],
   "source": [
    "import os\n",
    "\n",
    "# Membuat direktori\n",
    "if not os.path.exists('dataset'):\n",
    "    os.makedirs('dataset')\n",
    "\n",
    "# Menyimpan data dalam file CSV\n",
    "data.to_csv(\"dataset/clean_review_1.csv\", index=None)"
   ]
  },
  {
   "cell_type": "code",
   "execution_count": null,
   "id": "c41be943-dd57-473c-955e-c6b6619e9cd2",
   "metadata": {},
   "outputs": [],
   "source": []
  }
 ],
 "metadata": {
  "kernelspec": {
   "display_name": "Python 3 (ipykernel)",
   "language": "python",
   "name": "python3"
  },
  "language_info": {
   "codemirror_mode": {
    "name": "ipython",
    "version": 3
   },
   "file_extension": ".py",
   "mimetype": "text/x-python",
   "name": "python",
   "nbconvert_exporter": "python",
   "pygments_lexer": "ipython3",
   "version": "3.11.2"
  }
 },
 "nbformat": 4,
 "nbformat_minor": 5
}
