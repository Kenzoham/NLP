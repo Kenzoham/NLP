{
 "cells": [
  {
   "cell_type": "code",
   "execution_count": 1,
   "id": "590d43e5-24e0-47fa-91b9-5da121240aa8",
   "metadata": {},
   "outputs": [],
   "source": [
    "import pandas as pd\n",
    "import matplotlib.pyplot as plt\n",
    "from tensorflow.keras.preprocessing.text import Tokenizer\n",
    "from tensorflow.keras.preprocessing.sequence import pad_sequences\n",
    "from tensorflow.keras.models import Sequential\n",
    "from tensorflow.keras.layers import LSTM, Embedding, Dense, SpatialDropout1D\n",
    "from sklearn.model_selection import train_test_split\n",
    "from sklearn.preprocessing import LabelEncoder\n",
    "from tensorflow.keras.callbacks import EarlyStopping"
   ]
  },
  {
   "cell_type": "code",
   "execution_count": 2,
   "id": "3c92807d-2baf-4656-bdaf-583b02b1d030",
   "metadata": {},
   "outputs": [],
   "source": [
    "data = pd.read_csv(\"hasil_TextPreProcessing_sevima.csv\")"
   ]
  },
  {
   "cell_type": "code",
   "execution_count": 3,
   "id": "cf197d7b-a397-4695-8940-2ea96d3c9af4",
   "metadata": {},
   "outputs": [
    {
     "name": "stdout",
     "output_type": "stream",
     "text": [
      "Index(['content', 'score', 'Label', 'text_clean', 'text_StopWord',\n",
      "       'text_tokens', 'text_steamindo'],\n",
      "      dtype='object')\n"
     ]
    }
   ],
   "source": [
    "print(data.columns)"
   ]
  },
  {
   "cell_type": "code",
   "execution_count": 4,
   "id": "50a09e66-218a-4905-85f4-58799de111e8",
   "metadata": {},
   "outputs": [
    {
     "name": "stdout",
     "output_type": "stream",
     "text": [
      "                                             content  score    label  \\\n",
      "0  Bintang 5 jika sevima menyediakan mode gelap d...      4  Positif   \n",
      "1                        Tidak bisa masuk mulu berak      1  Negatif   \n",
      "2  Izin melapor ketua aplikasi ngebug jaringan pa...      1  Negatif   \n",
      "3  Ko saya ganti HP jadi G ada notif tugas atau k...      2  Negatif   \n",
      "4  membantu banget buat liat nilai nilai semester...      5  Positif   \n",
      "\n",
      "                                                 txt  \n",
      "0  bintang  jika sevima menyediakan mode gelap di...  \n",
      "1                        tidak bisa masuk mulu berak  \n",
      "2  izin melapor ketua aplikasi ngebug jaringan pa...  \n",
      "3  ko saya ganti hp jadi g ada notif tugas atau k...  \n",
      "4  membantu banget buat liat nilai nilai semester...  \n"
     ]
    }
   ],
   "source": [
    "# Menghapus kolom yang tidak diperlukan dan mengganti nama kolom\n",
    "data = data[['content', 'score', 'Label', 'text_clean']]  # Pertahankan hanya kolom yang dibutuhkan\n",
    "data.rename(columns={'Label': 'label'}, inplace=True)  # Ganti nama kolom \"Label\" menjadi \"label\"\n",
    "data.rename(columns={'text_clean': 'txt'}, inplace=True)\n",
    "# Tampilkan DataFrame setelah penyesuaian\n",
    "print(data.head())"
   ]
  },
  {
   "cell_type": "code",
   "execution_count": 5,
   "id": "24793492-51cd-4de6-b228-346f69512015",
   "metadata": {},
   "outputs": [],
   "source": [
    "# Preprocessing teks\n",
    "max_features = 1000  # Jumlah kata unik yang akan digunakan\n",
    "tokenizer = Tokenizer(num_words=max_features, split=\" \")\n",
    "tokenizer.fit_on_texts(data[\"txt\"].values)\n",
    "X = tokenizer.texts_to_sequences(data[\"txt\"].values)\n",
    "X = pad_sequences(X)"
   ]
  },
  {
   "cell_type": "code",
   "execution_count": 6,
   "id": "2f4230fc-20db-4a5f-9e42-bfc9da64a5c6",
   "metadata": {},
   "outputs": [],
   "source": [
    "# Preprocessing label\n",
    "label_encoder = LabelEncoder()\n",
    "Y = label_encoder.fit_transform(data[\"label\"])"
   ]
  },
  {
   "cell_type": "code",
   "execution_count": 8,
   "id": "9a8968fd-b740-48d2-9647-0e3f1c93d82f",
   "metadata": {},
   "outputs": [
    {
     "name": "stdout",
     "output_type": "stream",
     "text": [
      "(704, 73) (177, 73)\n",
      "704 177\n"
     ]
    }
   ],
   "source": [
    "from sklearn.model_selection import train_test_split\n",
    "\n",
    "# Membagi dataset menjadi data latih dan data uji\n",
    "X_train, X_test, y_train, y_test = train_test_split(X, Y, test_size=0.2, random_state=42)\n",
    "\n",
    "# Periksa bentuk data\n",
    "print(X_train.shape, X_test.shape)\n",
    "print(len(y_train), len(y_test))"
   ]
  },
  {
   "cell_type": "code",
   "execution_count": 10,
   "id": "8865bf69-8bb0-4e24-8c93-4ab7c9b2de02",
   "metadata": {},
   "outputs": [
    {
     "name": "stdout",
     "output_type": "stream",
     "text": [
      "Jumlah label 0 di y_test: 112\n",
      "Jumlah label 1 di y_test: 65\n"
     ]
    }
   ],
   "source": [
    "from sklearn.model_selection import train_test_split\n",
    "\n",
    "# Membagi dataset menjadi data latih dan data uji\n",
    "X_train, X_test, y_train, y_test = train_test_split(X, Y, test_size=0.2, random_state=42)\n",
    "\n",
    "# Periksa distribusi label pada data uji\n",
    "print(\"Jumlah label 0 di y_test:\", sum(y_test == 0))\n",
    "print(\"Jumlah label 1 di y_test:\", sum(y_test == 1))"
   ]
  },
  {
   "cell_type": "code",
   "execution_count": null,
   "id": "9ba7285b-80f4-4db5-b6b5-1d54cd152ed5",
   "metadata": {},
   "outputs": [],
   "source": [
    "from sklearn.model_selection import train_test_split\n",
    "\n",
    "# Membagi dataset menjadi data latih dan data uji\n",
    "X_train, X_test, Y_train, Y_test = train_test_split(X, Y, test_size=0.2, random_state=42)\n",
    "\n",
    "# Verifikasi bentuk data\n",
    "print(\"Bentuk X_train:\", X_train.shape)\n",
    "print(\"Bentuk Y_train:\", Y_train.shape)\n",
    "print(\"Bentuk X_test:\", X_test.shape)\n",
    "print(\"Bentuk Y_test:\", Y_test.shape)\n"
   ]
  },
  {
   "cell_type": "code",
   "execution_count": 11,
   "id": "35278f64-2282-4f55-91ab-763e3f12fa7f",
   "metadata": {},
   "outputs": [],
   "source": [
    "embedding_dim = 256\n",
    "lstm_out = 196\n",
    "\n",
    "model = Sequential()\n",
    "model.add(Embedding(max_features, embedding_dim))  # Hapus input_length\n",
    "model.add(SpatialDropout1D(0.4))\n",
    "model.add(LSTM(lstm_out, dropout=0.2, recurrent_dropout=0.2))\n",
    "model.add(Dense(1, activation=\"sigmoid\"))\n",
    "\n",
    "model.compile(loss=\"binary_crossentropy\", optimizer=\"adam\", metrics=[\"accuracy\"])\n"
   ]
  },
  {
   "cell_type": "code",
   "execution_count": 12,
   "id": "e8809a54-62bc-4cd9-8289-d9b56e1f9976",
   "metadata": {},
   "outputs": [],
   "source": [
    "# EarlyStopping\n",
    "early_stop = EarlyStopping(monitor='val_loss', \n",
    "                           patience=8, \n",
    "                           verbose=1, \n",
    "                           restore_best_weights=True)"
   ]
  },
  {
   "cell_type": "code",
   "execution_count": 13,
   "id": "b50480b1-1732-46dc-a2cc-12422bdfcc51",
   "metadata": {},
   "outputs": [
    {
     "ename": "NameError",
     "evalue": "name 'Y_train' is not defined",
     "output_type": "error",
     "traceback": [
      "\u001b[1;31m---------------------------------------------------------------------------\u001b[0m",
      "\u001b[1;31mNameError\u001b[0m                                 Traceback (most recent call last)",
      "Cell \u001b[1;32mIn[13], line 6\u001b[0m\n\u001b[0;32m      2\u001b[0m batch_size \u001b[38;5;241m=\u001b[39m \u001b[38;5;241m64\u001b[39m\n\u001b[0;32m      3\u001b[0m epochs \u001b[38;5;241m=\u001b[39m \u001b[38;5;241m50\u001b[39m\n\u001b[0;32m      4\u001b[0m history \u001b[38;5;241m=\u001b[39m model\u001b[38;5;241m.\u001b[39mfit(\n\u001b[0;32m      5\u001b[0m     X_train,\n\u001b[1;32m----> 6\u001b[0m     \u001b[43mY_train\u001b[49m,\n\u001b[0;32m      7\u001b[0m     batch_size\u001b[38;5;241m=\u001b[39mbatch_size,\n\u001b[0;32m      8\u001b[0m     epochs\u001b[38;5;241m=\u001b[39mepochs,\n\u001b[0;32m      9\u001b[0m     validation_data\u001b[38;5;241m=\u001b[39m(X_test, Y_test),\n\u001b[0;32m     10\u001b[0m     callbacks\u001b[38;5;241m=\u001b[39m[early_stop],\n\u001b[0;32m     11\u001b[0m     )\n",
      "\u001b[1;31mNameError\u001b[0m: name 'Y_train' is not defined"
     ]
    }
   ],
   "source": [
    "\n",
    "# Training model\n",
    "batch_size = 64\n",
    "epochs = 50\n",
    "history = model.fit(\n",
    "    X_train,\n",
    "    Y_train,\n",
    "    batch_size=batch_size,\n",
    "    epochs=epochs,\n",
    "    validation_data=(X_test, Y_test),\n",
    "    callbacks=[early_stop],\n",
    "    )"
   ]
  },
  {
   "cell_type": "code",
   "execution_count": null,
   "id": "b3de3b3d-f321-4c91-b686-fdb917e8263a",
   "metadata": {},
   "outputs": [],
   "source": [
    "# Visualisasi Loss dan Akurasi\n",
    "plt.plot(history.history[\"loss\"], label=\"Training Loss\")\n",
    "plt.plot(history.history[\"val_loss\"], label=\"Validation Loss\")\n",
    "plt.title(\"Training and Validation Loss\")\n",
    "plt.xlabel(\"Epochs\")\n",
    "plt.ylabel(\"Loss\")\n",
    "plt.legend()\n",
    "plt.show()\n",
    "\n",
    "plt.plot(history.history[\"accuracy\"], label=\"Training Accuracy\")\n",
    "plt.plot(history.history[\"val_accuracy\"], label=\"Validation Accuracy\")\n",
    "plt.title(\"Training and Validation Accuracy\")\n",
    "plt.xlabel(\"Epochs\")\n",
    "plt.ylabel(\"Accuracy\")\n",
    "plt.legend()\n",
    "plt.show()"
   ]
  },
  {
   "cell_type": "code",
   "execution_count": null,
   "id": "b3bebe87-f043-45e8-bb7a-48ef3c6e2d1b",
   "metadata": {},
   "outputs": [],
   "source": [
    "# Evaluasi model pada data uji\n",
    "loss, accuracy = model.evaluate(X_test, Y_test)\n",
    "print(f'Loss: {loss}')\n",
    "print(f'Accuracy: {accuracy}')"
   ]
  },
  {
   "cell_type": "code",
   "execution_count": null,
   "id": "3fe2bfaf-3571-41f1-8140-51b7f19f993e",
   "metadata": {},
   "outputs": [],
   "source": [
    "import os\n",
    "import json\n",
    "\n",
    "# Buat folder jika belum ada\n",
    "if not os.path.exists(\"model\"):\n",
    "    os.makedirs(\"model\")\n",
    "\n",
    "# Simpan riwayat pelatihan ke file JSON\n",
    "with open(\"model/training_history.json\", \"w\") as file:\n",
    "    json.dump(history.history, file)\n",
    "\n",
    "# Simpan model ke file\n",
    "model.save(\"model/saved_model.keras\")\n",
    "model.save_weights(\"model/model_weights.weights.h5\")"
   ]
  }
 ],
 "metadata": {
  "kernelspec": {
   "display_name": "Python 3 (ipykernel)",
   "language": "python",
   "name": "python3"
  },
  "language_info": {
   "codemirror_mode": {
    "name": "ipython",
    "version": 3
   },
   "file_extension": ".py",
   "mimetype": "text/x-python",
   "name": "python",
   "nbconvert_exporter": "python",
   "pygments_lexer": "ipython3",
   "version": "3.11.2"
  }
 },
 "nbformat": 4,
 "nbformat_minor": 5
}
